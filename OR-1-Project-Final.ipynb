{
 "cells": [
  {
   "cell_type": "markdown",
   "metadata": {},
   "source": [
    "## Part A"
   ]
  },
  {
   "cell_type": "markdown",
   "metadata": {},
   "source": [
    "Formulation to determine the minimum number of sensors:\n",
    "\n",
    "*Decision Variables:*\n",
    "\n",
    "$x_{v} = \\begin{cases}\n",
    "  1 & \\text{sensor is placed at location v where v} \\in \\nu\\\\    \n",
    "  0 & \\text{sensor isn't placed at location v}    \n",
    "\\end{cases}$\n",
    "\n",
    "$x_v$ is a binary variable that states if sensor is placed at node v.\n",
    "\n",
    "*Objective Function:* <br>\n",
    "$min \\sum_{v=1}^{v=811} x_v$ \n",
    "\n",
    "*Constraints:* <br>\n",
    "\n",
    "1. $1 \\leq \\sum_{v=1}^{v=811} F_{e,v} x_v$ $\\hspace{0.5cm} \\forall e \\in \\epsilon$\n",
    "2. $x_v$ is a  binary variables - $x_v \\in \\{0,1\\}$"
   ]
  },
  {
   "cell_type": "markdown",
   "metadata": {},
   "source": [
    "## Part B"
   ]
  },
  {
   "cell_type": "code",
   "execution_count": 47,
   "metadata": {},
   "outputs": [
    {
     "name": "stdout",
     "output_type": "stream",
     "text": [
      "Requirement already satisfied: pulp in c:\\users\\vaanis-laptop\\anaconda3\\lib\\site-packages (2.7.0)\n"
     ]
    }
   ],
   "source": [
    "# Install and Import the necessary packages and dependencies\n",
    "!pip install pulp\n",
    "import pulp\n",
    "from pulp import *\n",
    "import numpy as np\n",
    "import time"
   ]
  },
  {
   "cell_type": "code",
   "execution_count": 13,
   "metadata": {},
   "outputs": [
    {
     "data": {
      "text/html": [
       "<div>\n",
       "<style scoped>\n",
       "    .dataframe tbody tr th:only-of-type {\n",
       "        vertical-align: middle;\n",
       "    }\n",
       "\n",
       "    .dataframe tbody tr th {\n",
       "        vertical-align: top;\n",
       "    }\n",
       "\n",
       "    .dataframe thead th {\n",
       "        text-align: right;\n",
       "    }\n",
       "</style>\n",
       "<table border=\"1\" class=\"dataframe\">\n",
       "  <thead>\n",
       "    <tr style=\"text-align: right;\">\n",
       "      <th></th>\n",
       "      <th>1</th>\n",
       "      <th>0</th>\n",
       "      <th>0.1</th>\n",
       "      <th>0.2</th>\n",
       "      <th>0.3</th>\n",
       "      <th>0.4</th>\n",
       "      <th>0.5</th>\n",
       "      <th>0.6</th>\n",
       "      <th>0.7</th>\n",
       "      <th>0.8</th>\n",
       "      <th>...</th>\n",
       "      <th>0.797</th>\n",
       "      <th>0.798</th>\n",
       "      <th>0.799</th>\n",
       "      <th>0.800</th>\n",
       "      <th>0.801</th>\n",
       "      <th>0.802</th>\n",
       "      <th>0.803</th>\n",
       "      <th>0.804</th>\n",
       "      <th>0.805</th>\n",
       "      <th>0.806</th>\n",
       "    </tr>\n",
       "  </thead>\n",
       "  <tbody>\n",
       "    <tr>\n",
       "      <th>0</th>\n",
       "      <td>0</td>\n",
       "      <td>1</td>\n",
       "      <td>0</td>\n",
       "      <td>0</td>\n",
       "      <td>0</td>\n",
       "      <td>0</td>\n",
       "      <td>0</td>\n",
       "      <td>1</td>\n",
       "      <td>1</td>\n",
       "      <td>0</td>\n",
       "      <td>...</td>\n",
       "      <td>0</td>\n",
       "      <td>1</td>\n",
       "      <td>1</td>\n",
       "      <td>1</td>\n",
       "      <td>1</td>\n",
       "      <td>0</td>\n",
       "      <td>0</td>\n",
       "      <td>0</td>\n",
       "      <td>0</td>\n",
       "      <td>0</td>\n",
       "    </tr>\n",
       "    <tr>\n",
       "      <th>1</th>\n",
       "      <td>0</td>\n",
       "      <td>0</td>\n",
       "      <td>0</td>\n",
       "      <td>0</td>\n",
       "      <td>0</td>\n",
       "      <td>0</td>\n",
       "      <td>0</td>\n",
       "      <td>0</td>\n",
       "      <td>0</td>\n",
       "      <td>0</td>\n",
       "      <td>...</td>\n",
       "      <td>0</td>\n",
       "      <td>0</td>\n",
       "      <td>0</td>\n",
       "      <td>0</td>\n",
       "      <td>0</td>\n",
       "      <td>0</td>\n",
       "      <td>0</td>\n",
       "      <td>0</td>\n",
       "      <td>0</td>\n",
       "      <td>0</td>\n",
       "    </tr>\n",
       "    <tr>\n",
       "      <th>2</th>\n",
       "      <td>0</td>\n",
       "      <td>0</td>\n",
       "      <td>1</td>\n",
       "      <td>1</td>\n",
       "      <td>1</td>\n",
       "      <td>0</td>\n",
       "      <td>0</td>\n",
       "      <td>0</td>\n",
       "      <td>0</td>\n",
       "      <td>1</td>\n",
       "      <td>...</td>\n",
       "      <td>0</td>\n",
       "      <td>1</td>\n",
       "      <td>1</td>\n",
       "      <td>0</td>\n",
       "      <td>0</td>\n",
       "      <td>1</td>\n",
       "      <td>1</td>\n",
       "      <td>1</td>\n",
       "      <td>1</td>\n",
       "      <td>1</td>\n",
       "    </tr>\n",
       "    <tr>\n",
       "      <th>3</th>\n",
       "      <td>0</td>\n",
       "      <td>0</td>\n",
       "      <td>0</td>\n",
       "      <td>0</td>\n",
       "      <td>0</td>\n",
       "      <td>0</td>\n",
       "      <td>0</td>\n",
       "      <td>0</td>\n",
       "      <td>0</td>\n",
       "      <td>0</td>\n",
       "      <td>...</td>\n",
       "      <td>0</td>\n",
       "      <td>0</td>\n",
       "      <td>0</td>\n",
       "      <td>0</td>\n",
       "      <td>0</td>\n",
       "      <td>0</td>\n",
       "      <td>0</td>\n",
       "      <td>0</td>\n",
       "      <td>0</td>\n",
       "      <td>0</td>\n",
       "    </tr>\n",
       "    <tr>\n",
       "      <th>4</th>\n",
       "      <td>0</td>\n",
       "      <td>1</td>\n",
       "      <td>0</td>\n",
       "      <td>0</td>\n",
       "      <td>0</td>\n",
       "      <td>0</td>\n",
       "      <td>0</td>\n",
       "      <td>0</td>\n",
       "      <td>0</td>\n",
       "      <td>0</td>\n",
       "      <td>...</td>\n",
       "      <td>0</td>\n",
       "      <td>1</td>\n",
       "      <td>1</td>\n",
       "      <td>1</td>\n",
       "      <td>1</td>\n",
       "      <td>0</td>\n",
       "      <td>0</td>\n",
       "      <td>0</td>\n",
       "      <td>0</td>\n",
       "      <td>0</td>\n",
       "    </tr>\n",
       "  </tbody>\n",
       "</table>\n",
       "<p>5 rows × 811 columns</p>\n",
       "</div>"
      ],
      "text/plain": [
       "   1  0  0.1  0.2  0.3  0.4  0.5  0.6  0.7  0.8  ...  0.797  0.798  0.799  \\\n",
       "0  0  1    0    0    0    0    0    1    1    0  ...      0      1      1   \n",
       "1  0  0    0    0    0    0    0    0    0    0  ...      0      0      0   \n",
       "2  0  0    1    1    1    0    0    0    0    1  ...      0      1      1   \n",
       "3  0  0    0    0    0    0    0    0    0    0  ...      0      0      0   \n",
       "4  0  1    0    0    0    0    0    0    0    0  ...      0      1      1   \n",
       "\n",
       "   0.800  0.801  0.802  0.803  0.804  0.805  0.806  \n",
       "0      1      1      0      0      0      0      0  \n",
       "1      0      0      0      0      0      0      0  \n",
       "2      0      0      1      1      1      1      1  \n",
       "3      0      0      0      0      0      0      0  \n",
       "4      1      1      0      0      0      0      0  \n",
       "\n",
       "[5 rows x 811 columns]"
      ]
     },
     "execution_count": 13,
     "metadata": {},
     "output_type": "execute_result"
    }
   ],
   "source": [
    "import pandas as pd\n",
    "\n",
    "file_path = \"Detection_Matrix.csv\"\n",
    "detection_matrix_df = pd.read_csv(file_path)\n",
    "\n",
    "#Show the detection matrix\n",
    "detection_matrix_df.head()\n"
   ]
  },
  {
   "cell_type": "code",
   "execution_count": 14,
   "metadata": {},
   "outputs": [
    {
     "name": "stdout",
     "output_type": "stream",
     "text": [
      "Sensor Locations (node indices): [16, 58, 78, 104, 105, 156, 206, 277, 392, 394, 424, 430, 438, 483, 705, 712, 748, 786, 798]\n",
      "Optimal Number of Sensors: 19\n"
     ]
    }
   ],
   "source": [
    "#pip install pulp\n",
    "import pulp\n",
    "from pulp import *\n",
    "\n",
    "# Create the problem\n",
    "problem = LpProblem(\"SensorPlacement\", LpMinimize)\n",
    "\n",
    "# Number of nodes and pipes\n",
    "num_pipes, num_nodes = detection_matrix_df.shape\n",
    "\n",
    "# Decision variables\n",
    "x = LpVariable.dicts(\"Sensor\", range(num_nodes), 0, 1, cat='Binary')\n",
    "\n",
    "# Objective function: Minimize the number of sensors\n",
    "problem += lpSum(x[n] for n in range(num_nodes))\n",
    "\n",
    "# Constraints: Ensure each pipe is covered by at least one sensor\n",
    "for pipe in range(num_pipes):\n",
    "    problem += lpSum(detection_matrix_df.iloc[pipe, node] * x[node] for node in range(num_nodes)) >= 1\n",
    "\n",
    "# Specify the path to Gurobi\n",
    "path_to_Gurobi = 'C:/gurobi1003/win64/bin/gurobi_cl.exe'  # Update with your Gurobi path\n",
    "\n",
    "# Solve the problem using Gurobi\n",
    "problem.solve(GUROBI_CMD(path=path_to_Gurobi))\n",
    "\n",
    "# Extracting results\n",
    "sensor_locations = [n for n in range(num_nodes) if x[n].varValue > 0.5]\n",
    "optimal_number_of_sensors = len(sensor_locations)\n",
    "\n",
    "print(\"Sensor Locations (node indices):\", sensor_locations)\n",
    "print(\"Optimal Number of Sensors:\", optimal_number_of_sensors)\n"
   ]
  },
  {
   "cell_type": "markdown",
   "metadata": {},
   "source": [
    "## Part C"
   ]
  },
  {
   "cell_type": "markdown",
   "metadata": {},
   "source": [
    "To formulate this new integer problem, we must redefine the decision variables, objective function and constraints.\n",
    "\n",
    "**Decision Variables:**\n",
    "\n",
    "$x_{v} = \\begin{cases}\n",
    "  1 & \\text{sensor is placed at location v where v} \\in \\nu\\\\    \n",
    "  0 & \\text{sensor isn't placed at location v}    \n",
    "\\end{cases}$\n",
    "\n",
    "$z_{e} = \\begin{cases}\n",
    "  1 & \\text{pipe burst is detected where e } \\in \\epsilon\\\\    \n",
    "  0 & \\text{pipe burst isn't detected}    \n",
    "\\end{cases}$\n",
    "\n",
    "$z_e$ is a binary variable that states if pipe e's burst will be detected. \n",
    "\n",
    "**Objective Function:** <br>\n",
    "$max \\sum_{e=1}^{e=1123} 0.1z_e$ \n",
    "\n",
    "**Constraints:** <br>\n",
    "\n",
    "1. $z_e \\leq \\sum_{v=1}^{v=811} F_{e,v} x_v$ $\\hspace{0.5cm} \\forall e \\in \\epsilon$\n",
    "2. $\\sum_{v=1}^{v=811} x_v \\leq b$\n",
    "3. $x_v$ and $z_e$ are binary variables - $x_v \\in \\{0,1\\}$ and $z_e \\in \\{0,1\\}$"
   ]
  },
  {
   "cell_type": "markdown",
   "metadata": {},
   "source": [
    "## Part D"
   ]
  },
  {
   "cell_type": "code",
   "execution_count": 48,
   "metadata": {
    "jupyter": {
     "outputs_hidden": true
    },
    "scrolled": true,
    "tags": []
   },
   "outputs": [
    {
     "name": "stdout",
     "output_type": "stream",
     "text": [
      "Sensor locations for b= 0  is: []\n",
      "Sensor locations for b= 1  is: [36]\n",
      "Sensor locations for b= 2  is: [42, 614]\n",
      "Sensor locations for b= 3  is: [140, 614, 690]\n",
      "Sensor locations for b= 4  is: [237, 614, 690, 764]\n",
      "Sensor locations for b= 5  is: [140, 237, 646, 690, 712]\n",
      "Sensor locations for b= 6  is: [67, 287, 450, 591, 595, 722]\n",
      "Sensor locations for b= 7  is: [67, 206, 450, 591, 619, 712, 774]\n",
      "Sensor locations for b= 8  is: [67, 103, 206, 451, 591, 619, 712, 775]\n",
      "Sensor locations for b= 9  is: [34, 67, 103, 206, 233, 619, 651, 712, 714]\n",
      "Sensor locations for b= 10  is: [103, 206, 240, 267, 344, 619, 712, 714, 720, 798]\n",
      "Sensor locations for b= 11  is: [78, 103, 206, 240, 344, 392, 619, 712, 714, 720, 798]\n",
      "Sensor locations for b= 12  is: [78, 103, 164, 206, 240, 344, 392, 438, 483, 712, 714, 798]\n",
      "Sensor locations for b= 13  is: [77, 78, 103, 142, 168, 206, 277, 333, 392, 415, 465, 483, 540]\n",
      "Sensor locations for b= 14  is: [103, 164, 233, 267, 277, 355, 392, 394, 415, 483, 651, 712, 720, 748]\n",
      "Sensor locations for b= 15  is: [103, 164, 233, 267, 277, 355, 392, 394, 415, 483, 651, 705, 712, 720, 748]\n",
      "Sensor locations for b= 16  is: [27, 103, 164, 233, 267, 277, 355, 392, 394, 415, 483, 651, 705, 712, 720, 748]\n",
      "Sensor locations for b= 17  is: [16, 27, 103, 164, 233, 267, 277, 355, 392, 394, 415, 483, 651, 705, 712, 720, 748]\n",
      "Sensor locations for b= 18  is: [27, 104, 233, 267, 277, 392, 394, 415, 429, 483, 489, 651, 705, 712, 720, 722, 748, 806]\n",
      "Sensor locations for b= 19  is: [2, 16, 27, 104, 205, 233, 267, 277, 312, 392, 483, 489, 620, 651, 705, 712, 720, 722, 748]\n",
      "Sensor locations for b= 20  is: [1, 16, 27, 77, 104, 205, 206, 267, 277, 311, 312, 392, 398, 429, 439, 446, 483, 540, 705, 748]\n",
      "Time taken to run 20 iterations - 1175.43 seconds\n"
     ]
    }
   ],
   "source": [
    "ts = time.time()\n",
    "import matplotlib.pyplot as plt\n",
    "\n",
    "num_pipes, num_nodes = detection_matrix_df.shape\n",
    "\n",
    "# Storage for the results\n",
    "optimal_values = []\n",
    "total_pipes_detected_1  = []\n",
    "\n",
    "for b in range(21):  # Varying the number of sensors from 0 to 20\n",
    "    # Create the problem with a maximization objective\n",
    "    problem = LpProblem(\"MaximizeDetectedBursts_b\" + str(b), LpMaximize)\n",
    "\n",
    "    # Decision variables\n",
    "    x = LpVariable.dicts(\"Sensor\", range(num_nodes), 0, 1, cat='Binary')\n",
    "    z = LpVariable.dicts(\"BurstDetected\", range(num_pipes), 0, 1, cat='Binary')\n",
    "\n",
    "    # Objective function\n",
    "    problem += lpSum(0.1 * z[e] for e in range(num_pipes))\n",
    "\n",
    "    # Constraints\n",
    "    for e in range(num_pipes):\n",
    "        problem += z[e] <= lpSum(detection_matrix_df.iloc[e, v] * x[v] for v in range(num_nodes))\n",
    "\n",
    "    # Limit the number of sensors to the current value of b\n",
    "    problem += lpSum(x[v] for v in range(num_nodes)) <= b\n",
    "\n",
    "    # Solve the problem using Gurobi\n",
    "    problem.solve(GUROBI_CMD(path=path_to_Gurobi))\n",
    "\n",
    "    # Store the optimal value\n",
    "    total_pipes_detected_1.append(sum(z[e].varValue for e in range(num_pipes)))\n",
    "    optimal_values.append(value(problem.objective))\n",
    "    \n",
    "    \n",
    "    sensor_locations = [n for n in range(num_nodes) if x[n].varValue > 0.5]\n",
    "    print(\"Sensor locations for b=\", b, \" is:\", sensor_locations)\n",
    "\n",
    "te = time.time()\n",
    "print(f'Time taken to run 20 iterations - {round(te-ts, 2)} seconds')"
   ]
  },
  {
   "cell_type": "code",
   "execution_count": 43,
   "metadata": {},
   "outputs": [
    {
     "data": {
      "image/png": "[encoded data removed]",
      "text/plain": [
       "<Figure size 432x288 with 1 Axes>"
      ]
     },
     "metadata": {
      "needs_background": "light"
     },
     "output_type": "display_data"
    }
   ],
   "source": [
    "# Plotting the results\n",
    "plt.plot(range(21), optimal_values, marker='o')\n",
    "plt.xlabel('Number of Sensors (b)')\n",
    "plt.ylabel('Maximum Expected Number of Detected Bursts')\n",
    "plt.title('Maximum Expected Detection as a Function of Number of Sensors')\n",
    "plt.grid(True)\n",
    "plt.show()"
   ]
  },
  {
   "cell_type": "markdown",
   "metadata": {},
   "source": [
    "## Part E"
   ]
  },
  {
   "cell_type": "code",
   "execution_count": 50,
   "metadata": {},
   "outputs": [
    {
     "name": "stdout",
     "output_type": "stream",
     "text": [
      "Time taken to run sequential solution - 2.18 seconds\n"
     ]
    }
   ],
   "source": [
    "ts = time.time()\n",
    "final_objective_values = []\n",
    "total_pipes_detected = []\n",
    "nodes_selected = []\n",
    "prob = 0.1\n",
    "\n",
    "for b in range(21):\n",
    "    pipes_detected = 0\n",
    "    copy_det_matrix = detection_matrix_df.copy()\n",
    "    \n",
    "    for i in range(b):\n",
    "        if copy_det_matrix.shape[0] == 0:\n",
    "            print(\"All pipes detected using\", b, \" sensors\")\n",
    "            break\n",
    "        else:\n",
    "            col_sum = np.sum(copy_det_matrix, axis = 0)\n",
    "            \n",
    "            # Sensor with max pipe detection\n",
    "            max_pipes_sens_id = np.argmax(col_sum)\n",
    "            nodes_selected.append(max_pipes_sens_id)\n",
    "            \n",
    "            # Total number of pipes detected\n",
    "            pipes_detected = pipes_detected + col_sum[max_pipes_sens_id]\n",
    "            \n",
    "            # Remove pipes that are detected\n",
    "            copy_det_matrix = copy_det_matrix[copy_det_matrix.iloc[:, max_pipes_sens_id] == 0]\n",
    "            \n",
    "    \n",
    "    total_pipes_detected.append(pipes_detected)\n",
    "    final_objective_values.append(prob*pipes_detected)\n",
    "\n",
    "te = time.time()\n",
    "print(f'Time taken to run sequential solution - {round(te-ts, 2)} seconds')"
   ]
  },
  {
   "cell_type": "code",
   "execution_count": 51,
   "metadata": {},
   "outputs": [
    {
     "data": {
      "text/plain": [
       "[0,\n",
       " 391,\n",
       " 562,\n",
       " 729,\n",
       " 805,\n",
       " 864,\n",
       " 918,\n",
       " 960,\n",
       " 994,\n",
       " 1019,\n",
       " 1038,\n",
       " 1055,\n",
       " 1067,\n",
       " 1079,\n",
       " 1087,\n",
       " 1094,\n",
       " 1100,\n",
       " 1105,\n",
       " 1109,\n",
       " 1112,\n",
       " 1115]"
      ]
     },
     "execution_count": 51,
     "metadata": {},
     "output_type": "execute_result"
    }
   ],
   "source": [
    "total_pipes_detected"
   ]
  },
  {
   "cell_type": "code",
   "execution_count": 31,
   "metadata": {},
   "outputs": [
    {
     "data": {
      "image/png": "[encoded data removed]",
      "text/plain": [
       "<Figure size 432x288 with 1 Axes>"
      ]
     },
     "metadata": {
      "needs_background": "light"
     },
     "output_type": "display_data"
    }
   ],
   "source": [
    "# Plotting the results\n",
    "plt.plot(range(21), final_objective_values, marker='o')\n",
    "plt.xlabel('Number of Sensors (b)')\n",
    "plt.ylabel('Maximum Expected Number of Detected Bursts')\n",
    "plt.title('Maximum Expected Detection as a Function of Number of Sensors')\n",
    "plt.grid(True)\n",
    "plt.show()"
   ]
  },
  {
   "cell_type": "code",
   "execution_count": 41,
   "metadata": {},
   "outputs": [
    {
     "data": {
      "image/png": "[encoded data removed]",
      "text/plain": [
       "<Figure size 864x576 with 1 Axes>"
      ]
     },
     "metadata": {
      "needs_background": "light"
     },
     "output_type": "display_data"
    }
   ],
   "source": [
    "# Plotting the results\n",
    "_, ax = plt.subplots(figsize = (12,8))\n",
    "ax.plot(range(21), optimal_values, color = 'b', label = 'IP')\n",
    "ax.plot(range(21), final_objective_values, color = 'r', label = 'SequentialSoln')\n",
    "plt.xlabel('Number of Sensors (b)')\n",
    "plt.ylabel('Maximum Expected Number of Detected Bursts')\n",
    "plt.title('Maximum Expected Detection as a Function of Number of Sensors')\n",
    "plt.legend(prop={'size': 20})\n",
    "plt.grid(True)\n",
    "plt.show()"
   ]
  },
  {
   "cell_type": "markdown",
   "metadata": {},
   "source": [
    "## Part F"
   ]
  },
  {
   "cell_type": "markdown",
   "metadata": {},
   "source": [
    "In this integer problem, we introduce a new variable for criticality and redefine the objective function and constraints.\n",
    "\n",
    "**Decision Variables:**\n",
    "\n",
    "$x_{v} = \\begin{cases}\n",
    "  1 & \\text{sensor is placed at location v where v} \\in \\nu\\\\    \n",
    "  0 & \\text{sensor isn't placed at location v}    \n",
    "\\end{cases}$\n",
    "\n",
    "$z_{e} = \\begin{cases}\n",
    "  1 & \\text{pipe burst is detected where e } \\in \\epsilon\\\\    \n",
    "  0 & \\text{pipe burst isn't detected}    \n",
    "\\end{cases}$\n",
    "\n",
    "$w_e$ is a continuous variable that ranges between [0, 1]. The higher $w_e$ is, the more critical pipe $e$ is.\n",
    "\n",
    "**Objective Function:** <br>\n",
    "$min$ $max$ $w_e(1- z_e)$ $\\hspace{0.5cm} \\forall e \\in \\epsilon$\n",
    "\n",
    "Let's represent $max$ $w_e(1- z_e)$ as $k$. The linearized objective function would be: <br>\n",
    "$min$ $k$ <br>\n",
    "s.t. $ k \\geq w_e(1-z_e)$ $\\hspace{0.5cm} \\forall e \\in \\epsilon$\n",
    "\n",
    "**Constraints:** <br>\n",
    "1. $ k \\geq w_e(1-z_e)$ $\\hspace{0.5cm} \\forall e \\in \\epsilon$\n",
    "2. $z_e \\leq \\sum_{v=1}^{v=811} F_{e,v} x_v$ $\\hspace{0.5cm} \\forall e \\in \\epsilon$\n",
    "3. $\\sum_{v=1}^{v=811} x_v \\leq b$\n",
    "4. $x_v$ and $z_e$ are binary variables - $x_v \\in \\{0,1\\}$ and $z_e \\in \\{0,1\\}$"
   ]
  },
  {
   "cell_type": "markdown",
   "metadata": {},
   "source": [
    "## Part G"
   ]
  },
  {
   "cell_type": "code",
   "execution_count": 9,
   "metadata": {},
   "outputs": [
    {
     "data": {
      "text/html": [
       "<div>\n",
       "<style scoped>\n",
       "    .dataframe tbody tr th:only-of-type {\n",
       "        vertical-align: middle;\n",
       "    }\n",
       "\n",
       "    .dataframe tbody tr th {\n",
       "        vertical-align: top;\n",
       "    }\n",
       "\n",
       "    .dataframe thead th {\n",
       "        text-align: right;\n",
       "    }\n",
       "</style>\n",
       "<table border=\"1\" class=\"dataframe\">\n",
       "  <thead>\n",
       "    <tr style=\"text-align: right;\">\n",
       "      <th></th>\n",
       "      <th>0</th>\n",
       "    </tr>\n",
       "  </thead>\n",
       "  <tbody>\n",
       "    <tr>\n",
       "      <th>0</th>\n",
       "      <td>0.12</td>\n",
       "    </tr>\n",
       "    <tr>\n",
       "      <th>1</th>\n",
       "      <td>0.41</td>\n",
       "    </tr>\n",
       "    <tr>\n",
       "      <th>2</th>\n",
       "      <td>0.02</td>\n",
       "    </tr>\n",
       "    <tr>\n",
       "      <th>3</th>\n",
       "      <td>0.53</td>\n",
       "    </tr>\n",
       "    <tr>\n",
       "      <th>4</th>\n",
       "      <td>0.99</td>\n",
       "    </tr>\n",
       "  </tbody>\n",
       "</table>\n",
       "</div>"
      ],
      "text/plain": [
       "      0\n",
       "0  0.12\n",
       "1  0.41\n",
       "2  0.02\n",
       "3  0.53\n",
       "4  0.99"
      ]
     },
     "execution_count": 9,
     "metadata": {},
     "output_type": "execute_result"
    }
   ],
   "source": [
    "file_path_criticality = \"Criticality.csv\"\n",
    "criticality = pd.read_csv(file_path_criticality, header = None)\n",
    "\n",
    "# Brief look at the criticality file\n",
    "criticality.head()"
   ]
  },
  {
   "cell_type": "code",
   "execution_count": 16,
   "metadata": {},
   "outputs": [
    {
     "data": {
      "image/png": "[encoded data removed]",
      "text/plain": [
       "<Figure size 432x288 with 1 Axes>"
      ]
     },
     "metadata": {
      "needs_background": "light"
     },
     "output_type": "display_data"
    }
   ],
   "source": [
    "num_pipes, num_nodes = detection_matrix_df.shape\n",
    "\n",
    "# Storage for the results\n",
    "optimal_values_crit = []\n",
    "\n",
    "for b in range(21):  # Varying the number of sensors from 0 to 20\n",
    "    # Create the problem with a minimization objective\n",
    "    problem = LpProblem(\"MinHighestCriticality\" + str(b), LpMinimize)\n",
    "\n",
    "    # Decision variables\n",
    "    x = LpVariable.dicts(\"Sensor\", range(num_nodes), 0, 1, cat='Binary')\n",
    "    z = LpVariable.dicts(\"BurstDetected\", range(num_pipes), 0, 1, cat='Binary')\n",
    "    k = LpVariable(\"NewVar_Max\", 0, cat = 'Continuous')\n",
    "\n",
    "    # Objective function\n",
    "    problem += k\n",
    "\n",
    "    # Constraints\n",
    "    \n",
    "    # New Constraint for the Maximization of Criticality\n",
    "    for e in range(num_pipes):\n",
    "        problem += k >= criticality.iloc[e, :] * (1 - z[e])\n",
    "    \n",
    "    # \n",
    "    for e in range(num_pipes):\n",
    "        problem += z[e] <= lpSum(detection_matrix_df.iloc[e, v] * x[v] for v in range(num_nodes))\n",
    "\n",
    "    # Limit the number of sensors to the current value of b\n",
    "    problem += lpSum(x[v] for v in range(num_nodes)) <= b\n",
    "\n",
    "    # Solve the problem using Gurobi\n",
    "    problem.solve(GUROBI_CMD(path=path_to_Gurobi))\n",
    "\n",
    "    # Store the optimal value\n",
    "    optimal_values_crit.append(value(problem.objective))\n",
    "\n",
    "# Plotting the results\n",
    "plt.plot(range(21), optimal_values_crit, marker='o')\n",
    "plt.xlabel('Number of Sensors (b)')\n",
    "plt.ylabel('Highest Criticality of Undetected Pipes')\n",
    "plt.title('Highest Criticality as a Function of Number of Sensors')\n",
    "plt.grid(True)\n",
    "plt.show()"
   ]
  }
 ],
 "metadata": {
  "kernelspec": {
   "display_name": "Python 3 (ipykernel)",
   "language": "python",
   "name": "python3"
  },
  "language_info": {
   "codemirror_mode": {
    "name": "ipython",
    "version": 3
   },
   "file_extension": ".py",
   "mimetype": "text/x-python",
   "name": "python",
   "nbconvert_exporter": "python",
   "pygments_lexer": "ipython3",
   "version": "3.9.7"
  }
 },
 "nbformat": 4,
 "nbformat_minor": 4
}
